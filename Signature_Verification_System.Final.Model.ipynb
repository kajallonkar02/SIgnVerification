{
 "cells": [
  {
   "cell_type": "code",
   "execution_count": 1,
   "id": "a49b08a2-0e80-4b9c-a1c8-4011cc56ed52",
   "metadata": {},
   "outputs": [],
   "source": [
    "import pandas as pd\n",
    "import numpy as np\n",
    "import skimage.io as sk\n",
    "from skimage import img_as_ubyte\n",
    "from skimage.io import imread\n",
    "from scipy import spatial\n",
    "from tensorflow.keras.layers import Dense, Flatten, Input, Lambda, MaxPooling2D, Conv2D, Dropout, BatchNormalization\n",
    "from tensorflow.keras.models import Model\n",
    "from tensorflow.keras.applications.resnet50 import ResNet50\n",
    "from tensorflow.keras.preprocessing import image\n",
    "from tensorflow.keras.preprocessing.image import ImageDataGenerator, load_img\n",
    "from keras.models import Sequential\n",
    "from glob import glob\n",
    "from PIL import Image\n",
    "import cv2\n",
    "import matplotlib.pyplot as plt"
   ]
  },
  {
   "cell_type": "code",
   "execution_count": 2,
   "id": "58e8d599-7748-4819-b8a8-70b40466d060",
   "metadata": {},
   "outputs": [],
   "source": [
    "train_path = r\"C:\\Users\\HP\\OneDrive\\Desktop\\sign_data\\train\"\n",
    "test_path = r\"C:\\Users\\HP\\OneDrive\\Desktop\\sign_data\\test\""
   ]
  },
  {
   "cell_type": "code",
   "execution_count": 3,
   "id": "c5be5ab1-436b-4998-b3c8-8f17ce608e52",
   "metadata": {},
   "outputs": [],
   "source": [
    "Image_Width = 512\n",
    "Image_Height = 512\n",
    "Image_Size = (Image_Width, Image_Height)\n",
    "Image_Channel = 3\n",
    "batch_size=15"
   ]
  },
  {
   "cell_type": "code",
   "execution_count": 4,
   "id": "0b88a00a-2438-4710-a3c0-a249a497f344",
   "metadata": {},
   "outputs": [
    {
     "name": "stderr",
     "output_type": "stream",
     "text": [
      "C:\\Users\\HP\\anaconda3\\Lib\\site-packages\\keras\\src\\layers\\convolutional\\base_conv.py:107: UserWarning: Do not pass an `input_shape`/`input_dim` argument to a layer. When using Sequential models, prefer using an `Input(shape)` object as the first layer in the model instead.\n",
      "  super().__init__(activity_regularizer=activity_regularizer, **kwargs)\n"
     ]
    }
   ],
   "source": [
    "model = Sequential()\n",
    "\n",
    "## Conv layer 1\n",
    "model.add(Conv2D(32, (3,3), activation='relu', input_shape=(Image_Width,Image_Height, Image_Channel)))\n",
    "model.add(BatchNormalization())\n",
    "model.add(MaxPooling2D(pool_size=(2,2)))\n",
    "model.add(Dropout(0.25))\n",
    "\n",
    "## Conv layer 2\n",
    "model.add(Conv2D(64, (3,3), activation='relu'))\n",
    "model.add(BatchNormalization())\n",
    "model.add(MaxPooling2D(pool_size=(2,2)))\n",
    "model.add(Dropout(0.25))\n",
    "\n",
    "## Conv layer 3\n",
    "model.add(Conv2D(128, (3,3), activation='relu'))\n",
    "model.add(BatchNormalization())\n",
    "model.add(MaxPooling2D(pool_size=(2,2)))\n",
    "model.add(Dropout(0.25))\n",
    "\n",
    "## Conv layer 4\n",
    "model.add(Conv2D(256, (3,3), activation='relu'))\n",
    "model.add(BatchNormalization())\n",
    "model.add(MaxPooling2D(pool_size=(2,2)))\n",
    "model.add(Dropout(0.25))\n",
    "\n",
    "## Conv layer 5\n",
    "model.add(Conv2D(256, (3,3), activation='relu'))\n",
    "model.add(BatchNormalization())\n",
    "model.add(MaxPooling2D(pool_size=(2,2)))\n",
    "model.add(Dropout(0.25))\n",
    "\n",
    "## Conv layer 6\n",
    "model.add(Conv2D(512, (3,3), activation='relu'))\n",
    "model.add(BatchNormalization())\n",
    "model.add(MaxPooling2D(pool_size=(2,2)))\n",
    "model.add(Dropout(0.25))\n",
    "\n",
    "model.add(Flatten())\n",
    "model.add(Dense(256,activation='relu'))\n",
    "model.add(BatchNormalization())\n",
    "model.add(Dropout(0.5))\n",
    "\n",
    "model.add(Dense(2, activation='softmax'))\n",
    "\n",
    "model.compile(loss='categorical_crossentropy', optimizer='adam', metrics=['accuracy'])"
   ]
  },
  {
   "cell_type": "code",
   "execution_count": 5,
   "id": "9b013eef-3513-4e1e-ba1d-f8380e6e6a3c",
   "metadata": {},
   "outputs": [
    {
     "data": {
      "text/html": [
       "<pre style=\"white-space:pre;overflow-x:auto;line-height:normal;font-family:Menlo,'DejaVu Sans Mono',consolas,'Courier New',monospace\"><span style=\"font-weight: bold\">Model: \"sequential\"</span>\n",
       "</pre>\n"
      ],
      "text/plain": [
       "\u001b[1mModel: \"sequential\"\u001b[0m\n"
      ]
     },
     "metadata": {},
     "output_type": "display_data"
    },
    {
     "data": {
      "text/html": [
       "<pre style=\"white-space:pre;overflow-x:auto;line-height:normal;font-family:Menlo,'DejaVu Sans Mono',consolas,'Courier New',monospace\">┏━━━━━━━━━━━━━━━━━━━━━━━━━━━━━━━━━━━━━━┳━━━━━━━━━━━━━━━━━━━━━━━━━━━━━┳━━━━━━━━━━━━━━━━━┓\n",
       "┃<span style=\"font-weight: bold\"> Layer (type)                         </span>┃<span style=\"font-weight: bold\"> Output Shape                </span>┃<span style=\"font-weight: bold\">         Param # </span>┃\n",
       "┡━━━━━━━━━━━━━━━━━━━━━━━━━━━━━━━━━━━━━━╇━━━━━━━━━━━━━━━━━━━━━━━━━━━━━╇━━━━━━━━━━━━━━━━━┩\n",
       "│ conv2d (<span style=\"color: #0087ff; text-decoration-color: #0087ff\">Conv2D</span>)                      │ (<span style=\"color: #00d7ff; text-decoration-color: #00d7ff\">None</span>, <span style=\"color: #00af00; text-decoration-color: #00af00\">510</span>, <span style=\"color: #00af00; text-decoration-color: #00af00\">510</span>, <span style=\"color: #00af00; text-decoration-color: #00af00\">32</span>)        │             <span style=\"color: #00af00; text-decoration-color: #00af00\">896</span> │\n",
       "├──────────────────────────────────────┼─────────────────────────────┼─────────────────┤\n",
       "│ batch_normalization                  │ (<span style=\"color: #00d7ff; text-decoration-color: #00d7ff\">None</span>, <span style=\"color: #00af00; text-decoration-color: #00af00\">510</span>, <span style=\"color: #00af00; text-decoration-color: #00af00\">510</span>, <span style=\"color: #00af00; text-decoration-color: #00af00\">32</span>)        │             <span style=\"color: #00af00; text-decoration-color: #00af00\">128</span> │\n",
       "│ (<span style=\"color: #0087ff; text-decoration-color: #0087ff\">BatchNormalization</span>)                 │                             │                 │\n",
       "├──────────────────────────────────────┼─────────────────────────────┼─────────────────┤\n",
       "│ max_pooling2d (<span style=\"color: #0087ff; text-decoration-color: #0087ff\">MaxPooling2D</span>)         │ (<span style=\"color: #00d7ff; text-decoration-color: #00d7ff\">None</span>, <span style=\"color: #00af00; text-decoration-color: #00af00\">255</span>, <span style=\"color: #00af00; text-decoration-color: #00af00\">255</span>, <span style=\"color: #00af00; text-decoration-color: #00af00\">32</span>)        │               <span style=\"color: #00af00; text-decoration-color: #00af00\">0</span> │\n",
       "├──────────────────────────────────────┼─────────────────────────────┼─────────────────┤\n",
       "│ dropout (<span style=\"color: #0087ff; text-decoration-color: #0087ff\">Dropout</span>)                    │ (<span style=\"color: #00d7ff; text-decoration-color: #00d7ff\">None</span>, <span style=\"color: #00af00; text-decoration-color: #00af00\">255</span>, <span style=\"color: #00af00; text-decoration-color: #00af00\">255</span>, <span style=\"color: #00af00; text-decoration-color: #00af00\">32</span>)        │               <span style=\"color: #00af00; text-decoration-color: #00af00\">0</span> │\n",
       "├──────────────────────────────────────┼─────────────────────────────┼─────────────────┤\n",
       "│ conv2d_1 (<span style=\"color: #0087ff; text-decoration-color: #0087ff\">Conv2D</span>)                    │ (<span style=\"color: #00d7ff; text-decoration-color: #00d7ff\">None</span>, <span style=\"color: #00af00; text-decoration-color: #00af00\">253</span>, <span style=\"color: #00af00; text-decoration-color: #00af00\">253</span>, <span style=\"color: #00af00; text-decoration-color: #00af00\">64</span>)        │          <span style=\"color: #00af00; text-decoration-color: #00af00\">18,496</span> │\n",
       "├──────────────────────────────────────┼─────────────────────────────┼─────────────────┤\n",
       "│ batch_normalization_1                │ (<span style=\"color: #00d7ff; text-decoration-color: #00d7ff\">None</span>, <span style=\"color: #00af00; text-decoration-color: #00af00\">253</span>, <span style=\"color: #00af00; text-decoration-color: #00af00\">253</span>, <span style=\"color: #00af00; text-decoration-color: #00af00\">64</span>)        │             <span style=\"color: #00af00; text-decoration-color: #00af00\">256</span> │\n",
       "│ (<span style=\"color: #0087ff; text-decoration-color: #0087ff\">BatchNormalization</span>)                 │                             │                 │\n",
       "├──────────────────────────────────────┼─────────────────────────────┼─────────────────┤\n",
       "│ max_pooling2d_1 (<span style=\"color: #0087ff; text-decoration-color: #0087ff\">MaxPooling2D</span>)       │ (<span style=\"color: #00d7ff; text-decoration-color: #00d7ff\">None</span>, <span style=\"color: #00af00; text-decoration-color: #00af00\">126</span>, <span style=\"color: #00af00; text-decoration-color: #00af00\">126</span>, <span style=\"color: #00af00; text-decoration-color: #00af00\">64</span>)        │               <span style=\"color: #00af00; text-decoration-color: #00af00\">0</span> │\n",
       "├──────────────────────────────────────┼─────────────────────────────┼─────────────────┤\n",
       "│ dropout_1 (<span style=\"color: #0087ff; text-decoration-color: #0087ff\">Dropout</span>)                  │ (<span style=\"color: #00d7ff; text-decoration-color: #00d7ff\">None</span>, <span style=\"color: #00af00; text-decoration-color: #00af00\">126</span>, <span style=\"color: #00af00; text-decoration-color: #00af00\">126</span>, <span style=\"color: #00af00; text-decoration-color: #00af00\">64</span>)        │               <span style=\"color: #00af00; text-decoration-color: #00af00\">0</span> │\n",
       "├──────────────────────────────────────┼─────────────────────────────┼─────────────────┤\n",
       "│ conv2d_2 (<span style=\"color: #0087ff; text-decoration-color: #0087ff\">Conv2D</span>)                    │ (<span style=\"color: #00d7ff; text-decoration-color: #00d7ff\">None</span>, <span style=\"color: #00af00; text-decoration-color: #00af00\">124</span>, <span style=\"color: #00af00; text-decoration-color: #00af00\">124</span>, <span style=\"color: #00af00; text-decoration-color: #00af00\">128</span>)       │          <span style=\"color: #00af00; text-decoration-color: #00af00\">73,856</span> │\n",
       "├──────────────────────────────────────┼─────────────────────────────┼─────────────────┤\n",
       "│ batch_normalization_2                │ (<span style=\"color: #00d7ff; text-decoration-color: #00d7ff\">None</span>, <span style=\"color: #00af00; text-decoration-color: #00af00\">124</span>, <span style=\"color: #00af00; text-decoration-color: #00af00\">124</span>, <span style=\"color: #00af00; text-decoration-color: #00af00\">128</span>)       │             <span style=\"color: #00af00; text-decoration-color: #00af00\">512</span> │\n",
       "│ (<span style=\"color: #0087ff; text-decoration-color: #0087ff\">BatchNormalization</span>)                 │                             │                 │\n",
       "├──────────────────────────────────────┼─────────────────────────────┼─────────────────┤\n",
       "│ max_pooling2d_2 (<span style=\"color: #0087ff; text-decoration-color: #0087ff\">MaxPooling2D</span>)       │ (<span style=\"color: #00d7ff; text-decoration-color: #00d7ff\">None</span>, <span style=\"color: #00af00; text-decoration-color: #00af00\">62</span>, <span style=\"color: #00af00; text-decoration-color: #00af00\">62</span>, <span style=\"color: #00af00; text-decoration-color: #00af00\">128</span>)         │               <span style=\"color: #00af00; text-decoration-color: #00af00\">0</span> │\n",
       "├──────────────────────────────────────┼─────────────────────────────┼─────────────────┤\n",
       "│ dropout_2 (<span style=\"color: #0087ff; text-decoration-color: #0087ff\">Dropout</span>)                  │ (<span style=\"color: #00d7ff; text-decoration-color: #00d7ff\">None</span>, <span style=\"color: #00af00; text-decoration-color: #00af00\">62</span>, <span style=\"color: #00af00; text-decoration-color: #00af00\">62</span>, <span style=\"color: #00af00; text-decoration-color: #00af00\">128</span>)         │               <span style=\"color: #00af00; text-decoration-color: #00af00\">0</span> │\n",
       "├──────────────────────────────────────┼─────────────────────────────┼─────────────────┤\n",
       "│ conv2d_3 (<span style=\"color: #0087ff; text-decoration-color: #0087ff\">Conv2D</span>)                    │ (<span style=\"color: #00d7ff; text-decoration-color: #00d7ff\">None</span>, <span style=\"color: #00af00; text-decoration-color: #00af00\">60</span>, <span style=\"color: #00af00; text-decoration-color: #00af00\">60</span>, <span style=\"color: #00af00; text-decoration-color: #00af00\">256</span>)         │         <span style=\"color: #00af00; text-decoration-color: #00af00\">295,168</span> │\n",
       "├──────────────────────────────────────┼─────────────────────────────┼─────────────────┤\n",
       "│ batch_normalization_3                │ (<span style=\"color: #00d7ff; text-decoration-color: #00d7ff\">None</span>, <span style=\"color: #00af00; text-decoration-color: #00af00\">60</span>, <span style=\"color: #00af00; text-decoration-color: #00af00\">60</span>, <span style=\"color: #00af00; text-decoration-color: #00af00\">256</span>)         │           <span style=\"color: #00af00; text-decoration-color: #00af00\">1,024</span> │\n",
       "│ (<span style=\"color: #0087ff; text-decoration-color: #0087ff\">BatchNormalization</span>)                 │                             │                 │\n",
       "├──────────────────────────────────────┼─────────────────────────────┼─────────────────┤\n",
       "│ max_pooling2d_3 (<span style=\"color: #0087ff; text-decoration-color: #0087ff\">MaxPooling2D</span>)       │ (<span style=\"color: #00d7ff; text-decoration-color: #00d7ff\">None</span>, <span style=\"color: #00af00; text-decoration-color: #00af00\">30</span>, <span style=\"color: #00af00; text-decoration-color: #00af00\">30</span>, <span style=\"color: #00af00; text-decoration-color: #00af00\">256</span>)         │               <span style=\"color: #00af00; text-decoration-color: #00af00\">0</span> │\n",
       "├──────────────────────────────────────┼─────────────────────────────┼─────────────────┤\n",
       "│ dropout_3 (<span style=\"color: #0087ff; text-decoration-color: #0087ff\">Dropout</span>)                  │ (<span style=\"color: #00d7ff; text-decoration-color: #00d7ff\">None</span>, <span style=\"color: #00af00; text-decoration-color: #00af00\">30</span>, <span style=\"color: #00af00; text-decoration-color: #00af00\">30</span>, <span style=\"color: #00af00; text-decoration-color: #00af00\">256</span>)         │               <span style=\"color: #00af00; text-decoration-color: #00af00\">0</span> │\n",
       "├──────────────────────────────────────┼─────────────────────────────┼─────────────────┤\n",
       "│ conv2d_4 (<span style=\"color: #0087ff; text-decoration-color: #0087ff\">Conv2D</span>)                    │ (<span style=\"color: #00d7ff; text-decoration-color: #00d7ff\">None</span>, <span style=\"color: #00af00; text-decoration-color: #00af00\">28</span>, <span style=\"color: #00af00; text-decoration-color: #00af00\">28</span>, <span style=\"color: #00af00; text-decoration-color: #00af00\">256</span>)         │         <span style=\"color: #00af00; text-decoration-color: #00af00\">590,080</span> │\n",
       "├──────────────────────────────────────┼─────────────────────────────┼─────────────────┤\n",
       "│ batch_normalization_4                │ (<span style=\"color: #00d7ff; text-decoration-color: #00d7ff\">None</span>, <span style=\"color: #00af00; text-decoration-color: #00af00\">28</span>, <span style=\"color: #00af00; text-decoration-color: #00af00\">28</span>, <span style=\"color: #00af00; text-decoration-color: #00af00\">256</span>)         │           <span style=\"color: #00af00; text-decoration-color: #00af00\">1,024</span> │\n",
       "│ (<span style=\"color: #0087ff; text-decoration-color: #0087ff\">BatchNormalization</span>)                 │                             │                 │\n",
       "├──────────────────────────────────────┼─────────────────────────────┼─────────────────┤\n",
       "│ max_pooling2d_4 (<span style=\"color: #0087ff; text-decoration-color: #0087ff\">MaxPooling2D</span>)       │ (<span style=\"color: #00d7ff; text-decoration-color: #00d7ff\">None</span>, <span style=\"color: #00af00; text-decoration-color: #00af00\">14</span>, <span style=\"color: #00af00; text-decoration-color: #00af00\">14</span>, <span style=\"color: #00af00; text-decoration-color: #00af00\">256</span>)         │               <span style=\"color: #00af00; text-decoration-color: #00af00\">0</span> │\n",
       "├──────────────────────────────────────┼─────────────────────────────┼─────────────────┤\n",
       "│ dropout_4 (<span style=\"color: #0087ff; text-decoration-color: #0087ff\">Dropout</span>)                  │ (<span style=\"color: #00d7ff; text-decoration-color: #00d7ff\">None</span>, <span style=\"color: #00af00; text-decoration-color: #00af00\">14</span>, <span style=\"color: #00af00; text-decoration-color: #00af00\">14</span>, <span style=\"color: #00af00; text-decoration-color: #00af00\">256</span>)         │               <span style=\"color: #00af00; text-decoration-color: #00af00\">0</span> │\n",
       "├──────────────────────────────────────┼─────────────────────────────┼─────────────────┤\n",
       "│ conv2d_5 (<span style=\"color: #0087ff; text-decoration-color: #0087ff\">Conv2D</span>)                    │ (<span style=\"color: #00d7ff; text-decoration-color: #00d7ff\">None</span>, <span style=\"color: #00af00; text-decoration-color: #00af00\">12</span>, <span style=\"color: #00af00; text-decoration-color: #00af00\">12</span>, <span style=\"color: #00af00; text-decoration-color: #00af00\">512</span>)         │       <span style=\"color: #00af00; text-decoration-color: #00af00\">1,180,160</span> │\n",
       "├──────────────────────────────────────┼─────────────────────────────┼─────────────────┤\n",
       "│ batch_normalization_5                │ (<span style=\"color: #00d7ff; text-decoration-color: #00d7ff\">None</span>, <span style=\"color: #00af00; text-decoration-color: #00af00\">12</span>, <span style=\"color: #00af00; text-decoration-color: #00af00\">12</span>, <span style=\"color: #00af00; text-decoration-color: #00af00\">512</span>)         │           <span style=\"color: #00af00; text-decoration-color: #00af00\">2,048</span> │\n",
       "│ (<span style=\"color: #0087ff; text-decoration-color: #0087ff\">BatchNormalization</span>)                 │                             │                 │\n",
       "├──────────────────────────────────────┼─────────────────────────────┼─────────────────┤\n",
       "│ max_pooling2d_5 (<span style=\"color: #0087ff; text-decoration-color: #0087ff\">MaxPooling2D</span>)       │ (<span style=\"color: #00d7ff; text-decoration-color: #00d7ff\">None</span>, <span style=\"color: #00af00; text-decoration-color: #00af00\">6</span>, <span style=\"color: #00af00; text-decoration-color: #00af00\">6</span>, <span style=\"color: #00af00; text-decoration-color: #00af00\">512</span>)           │               <span style=\"color: #00af00; text-decoration-color: #00af00\">0</span> │\n",
       "├──────────────────────────────────────┼─────────────────────────────┼─────────────────┤\n",
       "│ dropout_5 (<span style=\"color: #0087ff; text-decoration-color: #0087ff\">Dropout</span>)                  │ (<span style=\"color: #00d7ff; text-decoration-color: #00d7ff\">None</span>, <span style=\"color: #00af00; text-decoration-color: #00af00\">6</span>, <span style=\"color: #00af00; text-decoration-color: #00af00\">6</span>, <span style=\"color: #00af00; text-decoration-color: #00af00\">512</span>)           │               <span style=\"color: #00af00; text-decoration-color: #00af00\">0</span> │\n",
       "├──────────────────────────────────────┼─────────────────────────────┼─────────────────┤\n",
       "│ flatten (<span style=\"color: #0087ff; text-decoration-color: #0087ff\">Flatten</span>)                    │ (<span style=\"color: #00d7ff; text-decoration-color: #00d7ff\">None</span>, <span style=\"color: #00af00; text-decoration-color: #00af00\">18432</span>)               │               <span style=\"color: #00af00; text-decoration-color: #00af00\">0</span> │\n",
       "├──────────────────────────────────────┼─────────────────────────────┼─────────────────┤\n",
       "│ dense (<span style=\"color: #0087ff; text-decoration-color: #0087ff\">Dense</span>)                        │ (<span style=\"color: #00d7ff; text-decoration-color: #00d7ff\">None</span>, <span style=\"color: #00af00; text-decoration-color: #00af00\">256</span>)                 │       <span style=\"color: #00af00; text-decoration-color: #00af00\">4,718,848</span> │\n",
       "├──────────────────────────────────────┼─────────────────────────────┼─────────────────┤\n",
       "│ batch_normalization_6                │ (<span style=\"color: #00d7ff; text-decoration-color: #00d7ff\">None</span>, <span style=\"color: #00af00; text-decoration-color: #00af00\">256</span>)                 │           <span style=\"color: #00af00; text-decoration-color: #00af00\">1,024</span> │\n",
       "│ (<span style=\"color: #0087ff; text-decoration-color: #0087ff\">BatchNormalization</span>)                 │                             │                 │\n",
       "├──────────────────────────────────────┼─────────────────────────────┼─────────────────┤\n",
       "│ dropout_6 (<span style=\"color: #0087ff; text-decoration-color: #0087ff\">Dropout</span>)                  │ (<span style=\"color: #00d7ff; text-decoration-color: #00d7ff\">None</span>, <span style=\"color: #00af00; text-decoration-color: #00af00\">256</span>)                 │               <span style=\"color: #00af00; text-decoration-color: #00af00\">0</span> │\n",
       "├──────────────────────────────────────┼─────────────────────────────┼─────────────────┤\n",
       "│ dense_1 (<span style=\"color: #0087ff; text-decoration-color: #0087ff\">Dense</span>)                      │ (<span style=\"color: #00d7ff; text-decoration-color: #00d7ff\">None</span>, <span style=\"color: #00af00; text-decoration-color: #00af00\">2</span>)                   │             <span style=\"color: #00af00; text-decoration-color: #00af00\">514</span> │\n",
       "└──────────────────────────────────────┴─────────────────────────────┴─────────────────┘\n",
       "</pre>\n"
      ],
      "text/plain": [
       "┏━━━━━━━━━━━━━━━━━━━━━━━━━━━━━━━━━━━━━━┳━━━━━━━━━━━━━━━━━━━━━━━━━━━━━┳━━━━━━━━━━━━━━━━━┓\n",
       "┃\u001b[1m \u001b[0m\u001b[1mLayer (type)                        \u001b[0m\u001b[1m \u001b[0m┃\u001b[1m \u001b[0m\u001b[1mOutput Shape               \u001b[0m\u001b[1m \u001b[0m┃\u001b[1m \u001b[0m\u001b[1m        Param #\u001b[0m\u001b[1m \u001b[0m┃\n",
       "┡━━━━━━━━━━━━━━━━━━━━━━━━━━━━━━━━━━━━━━╇━━━━━━━━━━━━━━━━━━━━━━━━━━━━━╇━━━━━━━━━━━━━━━━━┩\n",
       "│ conv2d (\u001b[38;5;33mConv2D\u001b[0m)                      │ (\u001b[38;5;45mNone\u001b[0m, \u001b[38;5;34m510\u001b[0m, \u001b[38;5;34m510\u001b[0m, \u001b[38;5;34m32\u001b[0m)        │             \u001b[38;5;34m896\u001b[0m │\n",
       "├──────────────────────────────────────┼─────────────────────────────┼─────────────────┤\n",
       "│ batch_normalization                  │ (\u001b[38;5;45mNone\u001b[0m, \u001b[38;5;34m510\u001b[0m, \u001b[38;5;34m510\u001b[0m, \u001b[38;5;34m32\u001b[0m)        │             \u001b[38;5;34m128\u001b[0m │\n",
       "│ (\u001b[38;5;33mBatchNormalization\u001b[0m)                 │                             │                 │\n",
       "├──────────────────────────────────────┼─────────────────────────────┼─────────────────┤\n",
       "│ max_pooling2d (\u001b[38;5;33mMaxPooling2D\u001b[0m)         │ (\u001b[38;5;45mNone\u001b[0m, \u001b[38;5;34m255\u001b[0m, \u001b[38;5;34m255\u001b[0m, \u001b[38;5;34m32\u001b[0m)        │               \u001b[38;5;34m0\u001b[0m │\n",
       "├──────────────────────────────────────┼─────────────────────────────┼─────────────────┤\n",
       "│ dropout (\u001b[38;5;33mDropout\u001b[0m)                    │ (\u001b[38;5;45mNone\u001b[0m, \u001b[38;5;34m255\u001b[0m, \u001b[38;5;34m255\u001b[0m, \u001b[38;5;34m32\u001b[0m)        │               \u001b[38;5;34m0\u001b[0m │\n",
       "├──────────────────────────────────────┼─────────────────────────────┼─────────────────┤\n",
       "│ conv2d_1 (\u001b[38;5;33mConv2D\u001b[0m)                    │ (\u001b[38;5;45mNone\u001b[0m, \u001b[38;5;34m253\u001b[0m, \u001b[38;5;34m253\u001b[0m, \u001b[38;5;34m64\u001b[0m)        │          \u001b[38;5;34m18,496\u001b[0m │\n",
       "├──────────────────────────────────────┼─────────────────────────────┼─────────────────┤\n",
       "│ batch_normalization_1                │ (\u001b[38;5;45mNone\u001b[0m, \u001b[38;5;34m253\u001b[0m, \u001b[38;5;34m253\u001b[0m, \u001b[38;5;34m64\u001b[0m)        │             \u001b[38;5;34m256\u001b[0m │\n",
       "│ (\u001b[38;5;33mBatchNormalization\u001b[0m)                 │                             │                 │\n",
       "├──────────────────────────────────────┼─────────────────────────────┼─────────────────┤\n",
       "│ max_pooling2d_1 (\u001b[38;5;33mMaxPooling2D\u001b[0m)       │ (\u001b[38;5;45mNone\u001b[0m, \u001b[38;5;34m126\u001b[0m, \u001b[38;5;34m126\u001b[0m, \u001b[38;5;34m64\u001b[0m)        │               \u001b[38;5;34m0\u001b[0m │\n",
       "├──────────────────────────────────────┼─────────────────────────────┼─────────────────┤\n",
       "│ dropout_1 (\u001b[38;5;33mDropout\u001b[0m)                  │ (\u001b[38;5;45mNone\u001b[0m, \u001b[38;5;34m126\u001b[0m, \u001b[38;5;34m126\u001b[0m, \u001b[38;5;34m64\u001b[0m)        │               \u001b[38;5;34m0\u001b[0m │\n",
       "├──────────────────────────────────────┼─────────────────────────────┼─────────────────┤\n",
       "│ conv2d_2 (\u001b[38;5;33mConv2D\u001b[0m)                    │ (\u001b[38;5;45mNone\u001b[0m, \u001b[38;5;34m124\u001b[0m, \u001b[38;5;34m124\u001b[0m, \u001b[38;5;34m128\u001b[0m)       │          \u001b[38;5;34m73,856\u001b[0m │\n",
       "├──────────────────────────────────────┼─────────────────────────────┼─────────────────┤\n",
       "│ batch_normalization_2                │ (\u001b[38;5;45mNone\u001b[0m, \u001b[38;5;34m124\u001b[0m, \u001b[38;5;34m124\u001b[0m, \u001b[38;5;34m128\u001b[0m)       │             \u001b[38;5;34m512\u001b[0m │\n",
       "│ (\u001b[38;5;33mBatchNormalization\u001b[0m)                 │                             │                 │\n",
       "├──────────────────────────────────────┼─────────────────────────────┼─────────────────┤\n",
       "│ max_pooling2d_2 (\u001b[38;5;33mMaxPooling2D\u001b[0m)       │ (\u001b[38;5;45mNone\u001b[0m, \u001b[38;5;34m62\u001b[0m, \u001b[38;5;34m62\u001b[0m, \u001b[38;5;34m128\u001b[0m)         │               \u001b[38;5;34m0\u001b[0m │\n",
       "├──────────────────────────────────────┼─────────────────────────────┼─────────────────┤\n",
       "│ dropout_2 (\u001b[38;5;33mDropout\u001b[0m)                  │ (\u001b[38;5;45mNone\u001b[0m, \u001b[38;5;34m62\u001b[0m, \u001b[38;5;34m62\u001b[0m, \u001b[38;5;34m128\u001b[0m)         │               \u001b[38;5;34m0\u001b[0m │\n",
       "├──────────────────────────────────────┼─────────────────────────────┼─────────────────┤\n",
       "│ conv2d_3 (\u001b[38;5;33mConv2D\u001b[0m)                    │ (\u001b[38;5;45mNone\u001b[0m, \u001b[38;5;34m60\u001b[0m, \u001b[38;5;34m60\u001b[0m, \u001b[38;5;34m256\u001b[0m)         │         \u001b[38;5;34m295,168\u001b[0m │\n",
       "├──────────────────────────────────────┼─────────────────────────────┼─────────────────┤\n",
       "│ batch_normalization_3                │ (\u001b[38;5;45mNone\u001b[0m, \u001b[38;5;34m60\u001b[0m, \u001b[38;5;34m60\u001b[0m, \u001b[38;5;34m256\u001b[0m)         │           \u001b[38;5;34m1,024\u001b[0m │\n",
       "│ (\u001b[38;5;33mBatchNormalization\u001b[0m)                 │                             │                 │\n",
       "├──────────────────────────────────────┼─────────────────────────────┼─────────────────┤\n",
       "│ max_pooling2d_3 (\u001b[38;5;33mMaxPooling2D\u001b[0m)       │ (\u001b[38;5;45mNone\u001b[0m, \u001b[38;5;34m30\u001b[0m, \u001b[38;5;34m30\u001b[0m, \u001b[38;5;34m256\u001b[0m)         │               \u001b[38;5;34m0\u001b[0m │\n",
       "├──────────────────────────────────────┼─────────────────────────────┼─────────────────┤\n",
       "│ dropout_3 (\u001b[38;5;33mDropout\u001b[0m)                  │ (\u001b[38;5;45mNone\u001b[0m, \u001b[38;5;34m30\u001b[0m, \u001b[38;5;34m30\u001b[0m, \u001b[38;5;34m256\u001b[0m)         │               \u001b[38;5;34m0\u001b[0m │\n",
       "├──────────────────────────────────────┼─────────────────────────────┼─────────────────┤\n",
       "│ conv2d_4 (\u001b[38;5;33mConv2D\u001b[0m)                    │ (\u001b[38;5;45mNone\u001b[0m, \u001b[38;5;34m28\u001b[0m, \u001b[38;5;34m28\u001b[0m, \u001b[38;5;34m256\u001b[0m)         │         \u001b[38;5;34m590,080\u001b[0m │\n",
       "├──────────────────────────────────────┼─────────────────────────────┼─────────────────┤\n",
       "│ batch_normalization_4                │ (\u001b[38;5;45mNone\u001b[0m, \u001b[38;5;34m28\u001b[0m, \u001b[38;5;34m28\u001b[0m, \u001b[38;5;34m256\u001b[0m)         │           \u001b[38;5;34m1,024\u001b[0m │\n",
       "│ (\u001b[38;5;33mBatchNormalization\u001b[0m)                 │                             │                 │\n",
       "├──────────────────────────────────────┼─────────────────────────────┼─────────────────┤\n",
       "│ max_pooling2d_4 (\u001b[38;5;33mMaxPooling2D\u001b[0m)       │ (\u001b[38;5;45mNone\u001b[0m, \u001b[38;5;34m14\u001b[0m, \u001b[38;5;34m14\u001b[0m, \u001b[38;5;34m256\u001b[0m)         │               \u001b[38;5;34m0\u001b[0m │\n",
       "├──────────────────────────────────────┼─────────────────────────────┼─────────────────┤\n",
       "│ dropout_4 (\u001b[38;5;33mDropout\u001b[0m)                  │ (\u001b[38;5;45mNone\u001b[0m, \u001b[38;5;34m14\u001b[0m, \u001b[38;5;34m14\u001b[0m, \u001b[38;5;34m256\u001b[0m)         │               \u001b[38;5;34m0\u001b[0m │\n",
       "├──────────────────────────────────────┼─────────────────────────────┼─────────────────┤\n",
       "│ conv2d_5 (\u001b[38;5;33mConv2D\u001b[0m)                    │ (\u001b[38;5;45mNone\u001b[0m, \u001b[38;5;34m12\u001b[0m, \u001b[38;5;34m12\u001b[0m, \u001b[38;5;34m512\u001b[0m)         │       \u001b[38;5;34m1,180,160\u001b[0m │\n",
       "├──────────────────────────────────────┼─────────────────────────────┼─────────────────┤\n",
       "│ batch_normalization_5                │ (\u001b[38;5;45mNone\u001b[0m, \u001b[38;5;34m12\u001b[0m, \u001b[38;5;34m12\u001b[0m, \u001b[38;5;34m512\u001b[0m)         │           \u001b[38;5;34m2,048\u001b[0m │\n",
       "│ (\u001b[38;5;33mBatchNormalization\u001b[0m)                 │                             │                 │\n",
       "├──────────────────────────────────────┼─────────────────────────────┼─────────────────┤\n",
       "│ max_pooling2d_5 (\u001b[38;5;33mMaxPooling2D\u001b[0m)       │ (\u001b[38;5;45mNone\u001b[0m, \u001b[38;5;34m6\u001b[0m, \u001b[38;5;34m6\u001b[0m, \u001b[38;5;34m512\u001b[0m)           │               \u001b[38;5;34m0\u001b[0m │\n",
       "├──────────────────────────────────────┼─────────────────────────────┼─────────────────┤\n",
       "│ dropout_5 (\u001b[38;5;33mDropout\u001b[0m)                  │ (\u001b[38;5;45mNone\u001b[0m, \u001b[38;5;34m6\u001b[0m, \u001b[38;5;34m6\u001b[0m, \u001b[38;5;34m512\u001b[0m)           │               \u001b[38;5;34m0\u001b[0m │\n",
       "├──────────────────────────────────────┼─────────────────────────────┼─────────────────┤\n",
       "│ flatten (\u001b[38;5;33mFlatten\u001b[0m)                    │ (\u001b[38;5;45mNone\u001b[0m, \u001b[38;5;34m18432\u001b[0m)               │               \u001b[38;5;34m0\u001b[0m │\n",
       "├──────────────────────────────────────┼─────────────────────────────┼─────────────────┤\n",
       "│ dense (\u001b[38;5;33mDense\u001b[0m)                        │ (\u001b[38;5;45mNone\u001b[0m, \u001b[38;5;34m256\u001b[0m)                 │       \u001b[38;5;34m4,718,848\u001b[0m │\n",
       "├──────────────────────────────────────┼─────────────────────────────┼─────────────────┤\n",
       "│ batch_normalization_6                │ (\u001b[38;5;45mNone\u001b[0m, \u001b[38;5;34m256\u001b[0m)                 │           \u001b[38;5;34m1,024\u001b[0m │\n",
       "│ (\u001b[38;5;33mBatchNormalization\u001b[0m)                 │                             │                 │\n",
       "├──────────────────────────────────────┼─────────────────────────────┼─────────────────┤\n",
       "│ dropout_6 (\u001b[38;5;33mDropout\u001b[0m)                  │ (\u001b[38;5;45mNone\u001b[0m, \u001b[38;5;34m256\u001b[0m)                 │               \u001b[38;5;34m0\u001b[0m │\n",
       "├──────────────────────────────────────┼─────────────────────────────┼─────────────────┤\n",
       "│ dense_1 (\u001b[38;5;33mDense\u001b[0m)                      │ (\u001b[38;5;45mNone\u001b[0m, \u001b[38;5;34m2\u001b[0m)                   │             \u001b[38;5;34m514\u001b[0m │\n",
       "└──────────────────────────────────────┴─────────────────────────────┴─────────────────┘\n"
      ]
     },
     "metadata": {},
     "output_type": "display_data"
    },
    {
     "data": {
      "text/html": [
       "<pre style=\"white-space:pre;overflow-x:auto;line-height:normal;font-family:Menlo,'DejaVu Sans Mono',consolas,'Courier New',monospace\"><span style=\"font-weight: bold\"> Total params: </span><span style=\"color: #00af00; text-decoration-color: #00af00\">6,884,034</span> (26.26 MB)\n",
       "</pre>\n"
      ],
      "text/plain": [
       "\u001b[1m Total params: \u001b[0m\u001b[38;5;34m6,884,034\u001b[0m (26.26 MB)\n"
      ]
     },
     "metadata": {},
     "output_type": "display_data"
    },
    {
     "data": {
      "text/html": [
       "<pre style=\"white-space:pre;overflow-x:auto;line-height:normal;font-family:Menlo,'DejaVu Sans Mono',consolas,'Courier New',monospace\"><span style=\"font-weight: bold\"> Trainable params: </span><span style=\"color: #00af00; text-decoration-color: #00af00\">6,881,026</span> (26.25 MB)\n",
       "</pre>\n"
      ],
      "text/plain": [
       "\u001b[1m Trainable params: \u001b[0m\u001b[38;5;34m6,881,026\u001b[0m (26.25 MB)\n"
      ]
     },
     "metadata": {},
     "output_type": "display_data"
    },
    {
     "data": {
      "text/html": [
       "<pre style=\"white-space:pre;overflow-x:auto;line-height:normal;font-family:Menlo,'DejaVu Sans Mono',consolas,'Courier New',monospace\"><span style=\"font-weight: bold\"> Non-trainable params: </span><span style=\"color: #00af00; text-decoration-color: #00af00\">3,008</span> (11.75 KB)\n",
       "</pre>\n"
      ],
      "text/plain": [
       "\u001b[1m Non-trainable params: \u001b[0m\u001b[38;5;34m3,008\u001b[0m (11.75 KB)\n"
      ]
     },
     "metadata": {},
     "output_type": "display_data"
    }
   ],
   "source": [
    "model.summary()"
   ]
  },
  {
   "cell_type": "code",
   "execution_count": 6,
   "id": "91256602-6bbe-4127-b394-5c67e1c8ef79",
   "metadata": {},
   "outputs": [],
   "source": [
    "from keras.callbacks import EarlyStopping, ReduceLROnPlateau\n",
    "\n",
    "early_stop = EarlyStopping(patience=10)\n",
    "learning_rate_reduction = ReduceLROnPlateau(monitor='val_acc', patience=2, verbose=1, factor=0.5, min_lr=0.00001)\n",
    "callbacks = [early_stop, learning_rate_reduction]"
   ]
  },
  {
   "cell_type": "code",
   "execution_count": 7,
   "id": "ba266b37-fc83-4533-9d18-e09d1686ae85",
   "metadata": {},
   "outputs": [],
   "source": [
    "train_datagen = ImageDataGenerator(rotation_range=15,\n",
    "                                  rescale=1./255,\n",
    "                                  shear_range=0.1,\n",
    "                                  zoom_range=0.2,\n",
    "                                  horizontal_flip=True,\n",
    "                                  width_shift_range=0.1,\n",
    "                                  height_shift_range=0.1,)"
   ]
  },
  {
   "cell_type": "code",
   "execution_count": 8,
   "id": "3e2379ef-6f40-4adb-b01c-296626e1080a",
   "metadata": {},
   "outputs": [
    {
     "name": "stdout",
     "output_type": "stream",
     "text": [
      "Found 1445 images belonging to 2 classes.\n"
     ]
    }
   ],
   "source": [
    "train_generator = train_datagen.flow_from_directory(r'C:\\Users\\HP\\OneDrive\\Desktop\\sign_data\\train',\n",
    "                                                     target_size=Image_Size,\n",
    "                                              batch_size=32,\n",
    "                                              class_mode = 'categorical')"
   ]
  },
  {
   "cell_type": "code",
   "execution_count": 9,
   "id": "20111190-42c0-4a1a-b6db-c5b3b90ac9c9",
   "metadata": {},
   "outputs": [],
   "source": [
    "# Performing only scaling on the test dataset\n",
    "\n",
    "test_datagen = ImageDataGenerator(rescale=1./255)"
   ]
  },
  {
   "cell_type": "code",
   "execution_count": 10,
   "id": "244ab9a7-211b-4387-9ceb-273967bd2712",
   "metadata": {},
   "outputs": [
    {
     "name": "stdout",
     "output_type": "stream",
     "text": [
      "Found 316 images belonging to 2 classes.\n"
     ]
    }
   ],
   "source": [
    "test_generator = test_datagen.flow_from_directory(r'C:\\Users\\HP\\OneDrive\\Desktop\\sign_data\\test',\n",
    "                                                  target_size=Image_Size,\n",
    "                                                  batch_size = 32,\n",
    "                                                  class_mode='categorical')"
   ]
  },
  {
   "cell_type": "code",
   "execution_count": 11,
   "id": "4bb8c8cc-ad13-4bc0-aa61-75e0dcd8bfc5",
   "metadata": {
    "scrolled": true
   },
   "outputs": [
    {
     "name": "stderr",
     "output_type": "stream",
     "text": [
      "C:\\Users\\HP\\anaconda3\\Lib\\site-packages\\keras\\src\\trainers\\data_adapters\\py_dataset_adapter.py:121: UserWarning: Your `PyDataset` class should call `super().__init__(**kwargs)` in its constructor. `**kwargs` can include `workers`, `use_multiprocessing`, `max_queue_size`. Do not pass these arguments to `fit()`, as they will be ignored.\n",
      "  self._warn_if_super_not_called()\n"
     ]
    },
    {
     "name": "stdout",
     "output_type": "stream",
     "text": [
      "Epoch 1/5\n",
      "\u001b[1m46/46\u001b[0m \u001b[32m━━━━━━━━━━━━━━━━━━━━\u001b[0m\u001b[37m\u001b[0m \u001b[1m3313s\u001b[0m 72s/step - accuracy: 0.7271 - loss: 0.7293 - val_accuracy: 0.4557 - val_loss: 2.0235 - learning_rate: 0.0010\n",
      "Epoch 2/5\n"
     ]
    },
    {
     "name": "stderr",
     "output_type": "stream",
     "text": [
      "C:\\Users\\HP\\anaconda3\\Lib\\site-packages\\keras\\src\\callbacks\\callback_list.py:145: UserWarning: Learning rate reduction is conditioned on metric `val_acc` which is not available. Available metrics are: accuracy,loss,val_accuracy,val_loss,learning_rate.\n",
      "  callback.on_epoch_end(epoch, logs)\n"
     ]
    },
    {
     "name": "stdout",
     "output_type": "stream",
     "text": [
      "\u001b[1m46/46\u001b[0m \u001b[32m━━━━━━━━━━━━━━━━━━━━\u001b[0m\u001b[37m\u001b[0m \u001b[1m3058s\u001b[0m 67s/step - accuracy: 0.9097 - loss: 0.2199 - val_accuracy: 0.4557 - val_loss: 9.1893 - learning_rate: 0.0010\n",
      "Epoch 3/5\n",
      "\u001b[1m46/46\u001b[0m \u001b[32m━━━━━━━━━━━━━━━━━━━━\u001b[0m\u001b[37m\u001b[0m \u001b[1m2964s\u001b[0m 65s/step - accuracy: 0.9277 - loss: 0.1762 - val_accuracy: 0.4557 - val_loss: 14.4152 - learning_rate: 0.0010\n",
      "Epoch 4/5\n",
      "\u001b[1m46/46\u001b[0m \u001b[32m━━━━━━━━━━━━━━━━━━━━\u001b[0m\u001b[37m\u001b[0m \u001b[1m3331s\u001b[0m 73s/step - accuracy: 0.9550 - loss: 0.1195 - val_accuracy: 0.4557 - val_loss: 5.5233 - learning_rate: 0.0010\n",
      "Epoch 5/5\n",
      "\u001b[1m46/46\u001b[0m \u001b[32m━━━━━━━━━━━━━━━━━━━━\u001b[0m\u001b[37m\u001b[0m \u001b[1m3502s\u001b[0m 75s/step - accuracy: 0.9464 - loss: 0.1519 - val_accuracy: 0.4557 - val_loss: 13.8384 - learning_rate: 0.0010\n"
     ]
    }
   ],
   "source": [
    "epochs = 5\n",
    "history = model.fit(train_generator,\n",
    "                               epochs=epochs,  \n",
    "                              validation_data=test_generator,    \n",
    "                               validation_steps=len(test_generator),                                   \n",
    "                             steps_per_epoch=len(train_generator),     \n",
    "                             callbacks=callbacks)   "
   ]
  },
  {
   "cell_type": "code",
   "execution_count": 12,
   "id": "2eefe908-37f0-4431-9aa4-af15956fbf78",
   "metadata": {},
   "outputs": [
    {
     "data": {
      "image/png": "[encoded data removed]",
      "text/plain": [
       "<Figure size 800x600 with 1 Axes>"
      ]
     },
     "metadata": {},
     "output_type": "display_data"
    },
    {
     "data": {
      "text/plain": [
       "<Figure size 640x480 with 0 Axes>"
      ]
     },
     "metadata": {},
     "output_type": "display_data"
    }
   ],
   "source": [
    "plt.figure(figsize=(8,6))\n",
    "plt.plot(history.history['loss'], label='train loss') \n",
    "plt.plot(history.history['accuracy'], label='train_acc')\n",
    "plt.plot(history.history['val_accuracy'], label='val_acc')\n",
    "plt.title(\"Training Loss and Accuracy\") \n",
    "plt.legend()  \n",
    "plt.show()\n",
    "plt.savefig('lossval_loss')"
   ]
  },
  {
   "cell_type": "code",
   "execution_count": 13,
   "id": "a66472ea-8510-419e-a6f6-be11f56b08f1",
   "metadata": {},
   "outputs": [
    {
     "name": "stderr",
     "output_type": "stream",
     "text": [
      "WARNING:absl:You are saving your model as an HDF5 file via `model.save()` or `keras.saving.save_model(model)`. This file format is considered legacy. We recommend using instead the native Keras format, e.g. `model.save('my_model.keras')` or `keras.saving.save_model(model, 'my_model.keras')`. \n"
     ]
    }
   ],
   "source": [
    "from tensorflow.keras.models import load_model\n",
    "model.save('forge_real_signature_model.h5')"
   ]
  },
  {
   "cell_type": "code",
   "execution_count": 14,
   "id": "506a95dc-0918-4d91-acb3-c4ce62f4193f",
   "metadata": {},
   "outputs": [
    {
     "name": "stdout",
     "output_type": "stream",
     "text": [
      "\u001b[1m10/10\u001b[0m \u001b[32m━━━━━━━━━━━━━━━━━━━━\u001b[0m\u001b[37m\u001b[0m \u001b[1m21s\u001b[0m 2s/step\n"
     ]
    },
    {
     "data": {
      "text/plain": [
       "array([[1.79979176e-12, 1.00000000e+00],\n",
       "       [5.89537186e-12, 1.00000000e+00],\n",
       "       [1.21664625e-12, 1.00000000e+00],\n",
       "       [2.14936532e-12, 1.00000000e+00],\n",
       "       [1.51365327e-11, 1.00000000e+00],\n",
       "       [3.73606484e-12, 1.00000000e+00],\n",
       "       [4.61092831e-11, 1.00000000e+00],\n",
       "       [8.66674733e-13, 1.00000000e+00],\n",
       "       [5.76417993e-12, 1.00000000e+00],\n",
       "       [7.88793163e-12, 1.00000000e+00],\n",
       "       [1.46765607e-12, 1.00000000e+00],\n",
       "       [5.87527639e-13, 1.00000000e+00],\n",
       "       [9.32275177e-12, 1.00000000e+00],\n",
       "       [1.07486665e-12, 1.00000000e+00],\n",
       "       [2.02561839e-12, 1.00000000e+00],\n",
       "       [8.24482626e-13, 1.00000000e+00],\n",
       "       [3.75107367e-12, 1.00000000e+00],\n",
       "       [3.22735502e-12, 1.00000000e+00],\n",
       "       [7.32813658e-13, 1.00000000e+00],\n",
       "       [1.23330491e-12, 1.00000000e+00],\n",
       "       [9.73557281e-13, 1.00000000e+00],\n",
       "       [4.19105506e-12, 1.00000000e+00],\n",
       "       [7.04711788e-13, 1.00000000e+00],\n",
       "       [1.17500204e-12, 1.00000000e+00],\n",
       "       [1.29262291e-12, 1.00000000e+00],\n",
       "       [7.78743459e-11, 1.00000000e+00],\n",
       "       [3.66534060e-12, 1.00000000e+00],\n",
       "       [1.44375970e-11, 1.00000000e+00],\n",
       "       [8.44139320e-13, 1.00000000e+00],\n",
       "       [9.96061740e-12, 1.00000000e+00],\n",
       "       [2.49692454e-12, 1.00000000e+00],\n",
       "       [1.59068743e-12, 1.00000000e+00],\n",
       "       [7.15102511e-13, 1.00000000e+00],\n",
       "       [6.82506916e-12, 1.00000000e+00],\n",
       "       [1.49958119e-11, 1.00000000e+00],\n",
       "       [6.97602512e-13, 1.00000000e+00],\n",
       "       [8.65333521e-13, 1.00000000e+00],\n",
       "       [1.99634649e-11, 1.00000000e+00],\n",
       "       [1.04236693e-12, 1.00000000e+00],\n",
       "       [6.04639711e-13, 1.00000000e+00],\n",
       "       [1.72969430e-12, 1.00000000e+00],\n",
       "       [7.87279150e-13, 1.00000000e+00],\n",
       "       [4.31856916e-13, 1.00000000e+00],\n",
       "       [8.97846684e-13, 1.00000000e+00],\n",
       "       [5.07488040e-13, 1.00000000e+00],\n",
       "       [2.99410566e-11, 1.00000000e+00],\n",
       "       [3.16511943e-12, 1.00000000e+00],\n",
       "       [5.96154148e-13, 1.00000000e+00],\n",
       "       [2.84840250e-12, 1.00000000e+00],\n",
       "       [4.37040025e-13, 1.00000000e+00],\n",
       "       [1.96415063e-12, 1.00000000e+00],\n",
       "       [9.95757188e-13, 1.00000000e+00],\n",
       "       [8.02364468e-13, 1.00000000e+00],\n",
       "       [8.60803236e-13, 1.00000000e+00],\n",
       "       [2.44949850e-12, 1.00000000e+00],\n",
       "       [1.11085165e-12, 1.00000000e+00],\n",
       "       [9.63279179e-11, 1.00000000e+00],\n",
       "       [1.55861803e-12, 1.00000000e+00],\n",
       "       [9.03088104e-10, 1.00000000e+00],\n",
       "       [4.41426756e-12, 1.00000000e+00],\n",
       "       [1.34786876e-12, 1.00000000e+00],\n",
       "       [9.32434685e-13, 1.00000000e+00],\n",
       "       [1.41783074e-09, 1.00000000e+00],\n",
       "       [6.55029525e-13, 1.00000000e+00],\n",
       "       [2.36545783e-11, 1.00000000e+00],\n",
       "       [1.45958072e-11, 1.00000000e+00],\n",
       "       [1.98676145e-12, 1.00000000e+00],\n",
       "       [1.71237872e-12, 1.00000000e+00],\n",
       "       [7.63827113e-10, 1.00000000e+00],\n",
       "       [1.15666396e-12, 1.00000000e+00],\n",
       "       [3.15573370e-12, 1.00000000e+00],\n",
       "       [4.45315963e-12, 1.00000000e+00],\n",
       "       [2.21416158e-12, 1.00000000e+00],\n",
       "       [4.00959431e-13, 1.00000000e+00],\n",
       "       [4.23119092e-12, 1.00000000e+00],\n",
       "       [6.42404153e-13, 1.00000000e+00],\n",
       "       [4.63164194e-11, 1.00000000e+00],\n",
       "       [7.30028104e-12, 1.00000000e+00],\n",
       "       [4.59846083e-13, 1.00000000e+00],\n",
       "       [1.25453710e-11, 1.00000000e+00],\n",
       "       [1.11138149e-12, 1.00000000e+00],\n",
       "       [5.78085756e-13, 1.00000000e+00],\n",
       "       [3.14626547e-10, 1.00000000e+00],\n",
       "       [9.93882494e-13, 1.00000000e+00],\n",
       "       [6.01911706e-12, 1.00000000e+00],\n",
       "       [1.11680925e-11, 1.00000000e+00],\n",
       "       [2.58168942e-12, 1.00000000e+00],\n",
       "       [3.39084294e-12, 1.00000000e+00],\n",
       "       [3.19712529e-12, 1.00000000e+00],\n",
       "       [1.29487476e-10, 1.00000000e+00],\n",
       "       [8.84682464e-13, 1.00000000e+00],\n",
       "       [9.81614789e-12, 1.00000000e+00],\n",
       "       [6.53140682e-13, 1.00000000e+00],\n",
       "       [1.13983974e-12, 1.00000000e+00],\n",
       "       [2.51348595e-12, 1.00000000e+00],\n",
       "       [3.80462545e-12, 1.00000000e+00],\n",
       "       [5.68791854e-11, 1.00000000e+00],\n",
       "       [5.76091258e-13, 1.00000000e+00],\n",
       "       [6.44340538e-13, 1.00000000e+00],\n",
       "       [1.22973224e-12, 1.00000000e+00],\n",
       "       [3.13003685e-11, 1.00000000e+00],\n",
       "       [1.40142925e-10, 1.00000000e+00],\n",
       "       [1.35527561e-11, 1.00000000e+00],\n",
       "       [4.47284874e-12, 1.00000000e+00],\n",
       "       [5.60789913e-12, 1.00000000e+00],\n",
       "       [6.18286834e-13, 1.00000000e+00],\n",
       "       [4.10571262e-13, 1.00000000e+00],\n",
       "       [1.39370364e-11, 1.00000000e+00],\n",
       "       [5.13777714e-13, 1.00000000e+00],\n",
       "       [9.79282194e-13, 1.00000000e+00],\n",
       "       [1.08063794e-10, 1.00000000e+00],\n",
       "       [1.75498907e-10, 1.00000000e+00],\n",
       "       [1.43179923e-09, 1.00000000e+00],\n",
       "       [2.70974497e-12, 1.00000000e+00],\n",
       "       [1.68001106e-12, 1.00000000e+00],\n",
       "       [6.19072979e-12, 1.00000000e+00],\n",
       "       [5.85661402e-13, 1.00000000e+00],\n",
       "       [3.52568058e-10, 1.00000000e+00],\n",
       "       [6.64926360e-12, 1.00000000e+00],\n",
       "       [4.82786533e-10, 1.00000000e+00],\n",
       "       [1.60077271e-10, 1.00000000e+00],\n",
       "       [1.63090322e-11, 1.00000000e+00],\n",
       "       [1.24703850e-12, 1.00000000e+00],\n",
       "       [4.74245754e-10, 1.00000000e+00],\n",
       "       [8.07038084e-13, 1.00000000e+00],\n",
       "       [8.71120898e-10, 1.00000000e+00],\n",
       "       [3.38661445e-13, 1.00000000e+00],\n",
       "       [1.90279801e-12, 1.00000000e+00],\n",
       "       [1.55348054e-12, 1.00000000e+00],\n",
       "       [5.27692961e-13, 1.00000000e+00],\n",
       "       [1.75025706e-12, 1.00000000e+00],\n",
       "       [4.14828415e-12, 1.00000000e+00],\n",
       "       [8.78625298e-13, 1.00000000e+00],\n",
       "       [3.55480684e-12, 1.00000000e+00],\n",
       "       [1.45651525e-12, 1.00000000e+00],\n",
       "       [1.40667686e-12, 1.00000000e+00],\n",
       "       [2.56685623e-12, 1.00000000e+00],\n",
       "       [1.36394953e-12, 1.00000000e+00],\n",
       "       [9.79969795e-13, 1.00000000e+00],\n",
       "       [1.03576835e-10, 1.00000000e+00],\n",
       "       [2.82988802e-12, 1.00000000e+00],\n",
       "       [9.99712292e-12, 1.00000000e+00],\n",
       "       [3.13170713e-12, 1.00000000e+00],\n",
       "       [2.01622464e-12, 1.00000000e+00],\n",
       "       [3.13147425e-12, 1.00000000e+00],\n",
       "       [6.45027922e-13, 1.00000000e+00],\n",
       "       [6.58067513e-13, 1.00000000e+00],\n",
       "       [9.83120594e-13, 1.00000000e+00],\n",
       "       [1.35649315e-12, 1.00000000e+00],\n",
       "       [1.52440033e-10, 1.00000000e+00],\n",
       "       [2.07067046e-12, 1.00000000e+00],\n",
       "       [4.19194237e-12, 1.00000000e+00],\n",
       "       [8.76116779e-13, 1.00000000e+00],\n",
       "       [1.10329020e-12, 1.00000000e+00],\n",
       "       [7.31732600e-13, 1.00000000e+00],\n",
       "       [1.69859591e-12, 1.00000000e+00],\n",
       "       [1.74493048e-12, 1.00000000e+00],\n",
       "       [2.57661253e-12, 1.00000000e+00],\n",
       "       [6.63767923e-13, 1.00000000e+00],\n",
       "       [1.72031400e-12, 1.00000000e+00],\n",
       "       [2.32357059e-12, 1.00000000e+00],\n",
       "       [2.03221173e-09, 1.00000000e+00],\n",
       "       [6.23929402e-13, 1.00000000e+00],\n",
       "       [3.94538612e-12, 1.00000000e+00],\n",
       "       [4.11087874e-12, 1.00000000e+00],\n",
       "       [3.57222021e-12, 1.00000000e+00],\n",
       "       [3.04061030e-12, 1.00000000e+00],\n",
       "       [2.00725352e-12, 1.00000000e+00],\n",
       "       [3.03253646e-12, 1.00000000e+00],\n",
       "       [6.92975571e-13, 1.00000000e+00],\n",
       "       [6.86108993e-13, 1.00000000e+00],\n",
       "       [5.23817491e-12, 1.00000000e+00],\n",
       "       [1.17136585e-12, 1.00000000e+00],\n",
       "       [4.53556533e-11, 1.00000000e+00],\n",
       "       [2.53046629e-12, 1.00000000e+00],\n",
       "       [5.90293309e-12, 1.00000000e+00],\n",
       "       [9.20700582e-12, 1.00000000e+00],\n",
       "       [6.18770746e-12, 1.00000000e+00],\n",
       "       [2.25017754e-10, 1.00000000e+00],\n",
       "       [2.24342571e-12, 1.00000000e+00],\n",
       "       [5.79312109e-09, 1.00000000e+00],\n",
       "       [3.44953704e-10, 1.00000000e+00],\n",
       "       [2.42267946e-12, 1.00000000e+00],\n",
       "       [1.45248429e-12, 1.00000000e+00],\n",
       "       [7.24791592e-13, 1.00000000e+00],\n",
       "       [2.22368001e-12, 1.00000000e+00],\n",
       "       [3.04358101e-12, 1.00000000e+00],\n",
       "       [2.66826361e-12, 1.00000000e+00],\n",
       "       [7.49708292e-13, 1.00000000e+00],\n",
       "       [1.21446724e-11, 1.00000000e+00],\n",
       "       [4.49872859e-13, 1.00000000e+00],\n",
       "       [3.24876757e-12, 1.00000000e+00],\n",
       "       [1.14437084e-12, 1.00000000e+00],\n",
       "       [9.10251822e-12, 1.00000000e+00],\n",
       "       [3.91272491e-13, 1.00000000e+00],\n",
       "       [1.00105113e-12, 1.00000000e+00],\n",
       "       [4.11345133e-12, 1.00000000e+00],\n",
       "       [4.64059069e-11, 1.00000000e+00],\n",
       "       [1.06223255e-12, 1.00000000e+00],\n",
       "       [1.22283466e-12, 1.00000000e+00],\n",
       "       [1.07806548e-12, 1.00000000e+00],\n",
       "       [6.24256723e-13, 1.00000000e+00],\n",
       "       [9.33454377e-13, 1.00000000e+00],\n",
       "       [3.34097507e-11, 1.00000000e+00],\n",
       "       [1.88934480e-12, 1.00000000e+00],\n",
       "       [1.16737167e-11, 1.00000000e+00],\n",
       "       [1.67206385e-12, 1.00000000e+00],\n",
       "       [5.26021826e-13, 1.00000000e+00],\n",
       "       [3.07312097e-12, 1.00000000e+00],\n",
       "       [7.09011300e-13, 1.00000000e+00],\n",
       "       [1.83519844e-12, 1.00000000e+00],\n",
       "       [9.31327389e-13, 1.00000000e+00],\n",
       "       [7.40119858e-12, 1.00000000e+00],\n",
       "       [1.39801875e-12, 1.00000000e+00],\n",
       "       [2.52848328e-12, 1.00000000e+00],\n",
       "       [5.28115854e-13, 1.00000000e+00],\n",
       "       [2.15409721e-12, 1.00000000e+00],\n",
       "       [7.03548764e-13, 1.00000000e+00],\n",
       "       [6.68798133e-12, 1.00000000e+00],\n",
       "       [8.77004578e-13, 1.00000000e+00],\n",
       "       [6.99558521e-13, 1.00000000e+00],\n",
       "       [2.79112740e-11, 1.00000000e+00],\n",
       "       [5.79663542e-13, 1.00000000e+00],\n",
       "       [3.18990711e-12, 1.00000000e+00],\n",
       "       [7.62358872e-13, 1.00000000e+00],\n",
       "       [4.26398250e-10, 1.00000000e+00],\n",
       "       [7.23352530e-13, 1.00000000e+00],\n",
       "       [1.12705884e-12, 1.00000000e+00],\n",
       "       [1.90136513e-12, 1.00000000e+00],\n",
       "       [7.26242538e-11, 1.00000000e+00],\n",
       "       [6.86148241e-13, 1.00000000e+00],\n",
       "       [2.17129439e-12, 1.00000000e+00],\n",
       "       [1.82030562e-12, 1.00000000e+00],\n",
       "       [2.07355552e-12, 1.00000000e+00],\n",
       "       [1.02856970e-12, 1.00000000e+00],\n",
       "       [2.34079878e-12, 1.00000000e+00],\n",
       "       [2.23654710e-12, 1.00000000e+00],\n",
       "       [8.38403791e-11, 1.00000000e+00],\n",
       "       [7.59569220e-13, 1.00000000e+00],\n",
       "       [1.45034711e-12, 1.00000000e+00],\n",
       "       [1.98005024e-12, 1.00000000e+00],\n",
       "       [4.26918613e-12, 1.00000000e+00],\n",
       "       [1.81180537e-12, 1.00000000e+00],\n",
       "       [3.07438021e-13, 1.00000000e+00],\n",
       "       [3.66643825e-12, 1.00000000e+00],\n",
       "       [3.83184066e-12, 1.00000000e+00],\n",
       "       [2.36686809e-13, 1.00000000e+00],\n",
       "       [3.43354945e-12, 1.00000000e+00],\n",
       "       [2.21583796e-09, 1.00000000e+00],\n",
       "       [7.02129110e-13, 1.00000000e+00],\n",
       "       [6.24740537e-12, 1.00000000e+00],\n",
       "       [4.65231369e-12, 1.00000000e+00],\n",
       "       [1.33145426e-12, 1.00000000e+00],\n",
       "       [1.27917273e-12, 1.00000000e+00],\n",
       "       [1.47763583e-12, 1.00000000e+00],\n",
       "       [2.03349138e-09, 1.00000000e+00],\n",
       "       [1.07490969e-12, 1.00000000e+00],\n",
       "       [1.19924231e-12, 1.00000000e+00],\n",
       "       [3.74387084e-11, 1.00000000e+00],\n",
       "       [1.98443605e-12, 1.00000000e+00],\n",
       "       [3.32956102e-12, 1.00000000e+00],\n",
       "       [5.55339737e-13, 1.00000000e+00],\n",
       "       [1.76795904e-12, 1.00000000e+00],\n",
       "       [5.16379203e-13, 1.00000000e+00],\n",
       "       [5.64670706e-13, 1.00000000e+00],\n",
       "       [1.32633173e-12, 1.00000000e+00],\n",
       "       [6.81233390e-13, 1.00000000e+00],\n",
       "       [3.95153875e-12, 1.00000000e+00],\n",
       "       [4.68755937e-12, 1.00000000e+00],\n",
       "       [8.88515372e-11, 1.00000000e+00],\n",
       "       [6.03853664e-13, 1.00000000e+00],\n",
       "       [4.50276350e-09, 1.00000000e+00],\n",
       "       [1.18047640e-12, 1.00000000e+00],\n",
       "       [3.14365851e-12, 1.00000000e+00],\n",
       "       [8.78699457e-12, 1.00000000e+00],\n",
       "       [2.59960651e-12, 1.00000000e+00],\n",
       "       [3.95010495e-13, 1.00000000e+00],\n",
       "       [3.44259235e-12, 1.00000000e+00],\n",
       "       [2.49331718e-12, 1.00000000e+00],\n",
       "       [1.97529874e-11, 1.00000000e+00],\n",
       "       [7.96422661e-13, 1.00000000e+00],\n",
       "       [2.16020301e-12, 1.00000000e+00],\n",
       "       [1.35176974e-11, 1.00000000e+00],\n",
       "       [1.03931750e-12, 1.00000000e+00],\n",
       "       [8.20039869e-12, 1.00000000e+00],\n",
       "       [8.26041319e-12, 1.00000000e+00],\n",
       "       [1.35438351e-12, 1.00000000e+00],\n",
       "       [9.67018891e-13, 1.00000000e+00],\n",
       "       [3.87351094e-13, 1.00000000e+00],\n",
       "       [4.92701799e-12, 1.00000000e+00],\n",
       "       [2.58979752e-12, 1.00000000e+00],\n",
       "       [2.12064984e-11, 1.00000000e+00],\n",
       "       [8.02685934e-13, 1.00000000e+00],\n",
       "       [1.66496710e-12, 1.00000000e+00],\n",
       "       [8.29810342e-13, 1.00000000e+00],\n",
       "       [5.72211592e-12, 1.00000000e+00],\n",
       "       [1.44575953e-12, 1.00000000e+00],\n",
       "       [6.52202034e-13, 1.00000000e+00],\n",
       "       [5.11522205e-12, 1.00000000e+00],\n",
       "       [5.32344611e-12, 1.00000000e+00],\n",
       "       [4.59806618e-13, 1.00000000e+00],\n",
       "       [2.46299574e-12, 1.00000000e+00],\n",
       "       [1.27596599e-12, 1.00000000e+00],\n",
       "       [6.31001165e-13, 1.00000000e+00],\n",
       "       [9.08444056e-13, 1.00000000e+00],\n",
       "       [6.67850757e-13, 1.00000000e+00],\n",
       "       [3.07535074e-11, 1.00000000e+00],\n",
       "       [1.03889738e-12, 1.00000000e+00],\n",
       "       [9.02804307e-13, 1.00000000e+00],\n",
       "       [1.24564900e-10, 1.00000000e+00],\n",
       "       [2.86036364e-12, 1.00000000e+00],\n",
       "       [5.49856926e-13, 1.00000000e+00],\n",
       "       [1.31331458e-12, 1.00000000e+00],\n",
       "       [7.60582569e-13, 1.00000000e+00],\n",
       "       [2.59596468e-12, 1.00000000e+00],\n",
       "       [4.93879000e-11, 1.00000000e+00]], dtype=float32)"
      ]
     },
     "execution_count": 14,
     "metadata": {},
     "output_type": "execute_result"
    }
   ],
   "source": [
    "pred = model.predict(test_generator)\n",
    "pred"
   ]
  },
  {
   "cell_type": "code",
   "execution_count": 15,
   "id": "11f9d624-0d4c-4dab-a7d3-aa07a1537edb",
   "metadata": {},
   "outputs": [
    {
     "data": {
      "text/plain": [
       "array([1, 1, 1, 1, 1, 1, 1, 1, 1, 1, 1, 1, 1, 1, 1, 1, 1, 1, 1, 1, 1, 1,\n",
       "       1, 1, 1, 1, 1, 1, 1, 1, 1, 1, 1, 1, 1, 1, 1, 1, 1, 1, 1, 1, 1, 1,\n",
       "       1, 1, 1, 1, 1, 1, 1, 1, 1, 1, 1, 1, 1, 1, 1, 1, 1, 1, 1, 1, 1, 1,\n",
       "       1, 1, 1, 1, 1, 1, 1, 1, 1, 1, 1, 1, 1, 1, 1, 1, 1, 1, 1, 1, 1, 1,\n",
       "       1, 1, 1, 1, 1, 1, 1, 1, 1, 1, 1, 1, 1, 1, 1, 1, 1, 1, 1, 1, 1, 1,\n",
       "       1, 1, 1, 1, 1, 1, 1, 1, 1, 1, 1, 1, 1, 1, 1, 1, 1, 1, 1, 1, 1, 1,\n",
       "       1, 1, 1, 1, 1, 1, 1, 1, 1, 1, 1, 1, 1, 1, 1, 1, 1, 1, 1, 1, 1, 1,\n",
       "       1, 1, 1, 1, 1, 1, 1, 1, 1, 1, 1, 1, 1, 1, 1, 1, 1, 1, 1, 1, 1, 1,\n",
       "       1, 1, 1, 1, 1, 1, 1, 1, 1, 1, 1, 1, 1, 1, 1, 1, 1, 1, 1, 1, 1, 1,\n",
       "       1, 1, 1, 1, 1, 1, 1, 1, 1, 1, 1, 1, 1, 1, 1, 1, 1, 1, 1, 1, 1, 1,\n",
       "       1, 1, 1, 1, 1, 1, 1, 1, 1, 1, 1, 1, 1, 1, 1, 1, 1, 1, 1, 1, 1, 1,\n",
       "       1, 1, 1, 1, 1, 1, 1, 1, 1, 1, 1, 1, 1, 1, 1, 1, 1, 1, 1, 1, 1, 1,\n",
       "       1, 1, 1, 1, 1, 1, 1, 1, 1, 1, 1, 1, 1, 1, 1, 1, 1, 1, 1, 1, 1, 1,\n",
       "       1, 1, 1, 1, 1, 1, 1, 1, 1, 1, 1, 1, 1, 1, 1, 1, 1, 1, 1, 1, 1, 1,\n",
       "       1, 1, 1, 1, 1, 1, 1, 1], dtype=int64)"
      ]
     },
     "execution_count": 15,
     "metadata": {},
     "output_type": "execute_result"
    }
   ],
   "source": [
    "import numpy as np\n",
    "\n",
    "pred = np.argmax(pred, axis=1)\n",
    "pred"
   ]
  },
  {
   "cell_type": "code",
   "execution_count": 16,
   "id": "8bcbb3ca-7c1e-4cb8-a6d5-7f800d01f6de",
   "metadata": {},
   "outputs": [
    {
     "name": "stderr",
     "output_type": "stream",
     "text": [
      "WARNING:absl:Compiled the loaded model, but the compiled metrics have yet to be built. `model.compile_metrics` will be empty until you train or evaluate the model.\n"
     ]
    }
   ],
   "source": [
    "model = load_model('forge_real_signature_model.h5')"
   ]
  },
  {
   "cell_type": "code",
   "execution_count": 17,
   "id": "af5a18c1-c493-4c3d-83e7-1838c85dd71f",
   "metadata": {},
   "outputs": [],
   "source": [
    "from tensorflow.keras.preprocessing import image\n",
    "\n",
    "img = image.load_img(r\"C:\\Users\\HP\\OneDrive\\Desktop\\sign_data\\test\\Forged\\049_forg\\01_0114049.PNG\", target_size=(512,512))\n"
   ]
  },
  {
   "cell_type": "code",
   "execution_count": 18,
   "id": "6d9c8ee5-b3dd-49d9-b2be-10b0ab65ec96",
   "metadata": {},
   "outputs": [
    {
     "data": {
      "text/plain": [
       "array([[[245., 253., 253.],\n",
       "        [245., 253., 253.],\n",
       "        [245., 253., 253.],\n",
       "        ...,\n",
       "        [245., 253., 253.],\n",
       "        [245., 253., 253.],\n",
       "        [245., 253., 253.]],\n",
       "\n",
       "       [[245., 253., 253.],\n",
       "        [245., 253., 253.],\n",
       "        [245., 253., 253.],\n",
       "        ...,\n",
       "        [245., 253., 253.],\n",
       "        [245., 253., 253.],\n",
       "        [245., 253., 253.]],\n",
       "\n",
       "       [[245., 253., 253.],\n",
       "        [245., 253., 253.],\n",
       "        [245., 253., 253.],\n",
       "        ...,\n",
       "        [245., 253., 253.],\n",
       "        [245., 253., 253.],\n",
       "        [245., 253., 253.]],\n",
       "\n",
       "       ...,\n",
       "\n",
       "       [[245., 253., 253.],\n",
       "        [245., 253., 253.],\n",
       "        [245., 253., 253.],\n",
       "        ...,\n",
       "        [245., 253., 253.],\n",
       "        [245., 253., 253.],\n",
       "        [245., 253., 253.]],\n",
       "\n",
       "       [[245., 253., 253.],\n",
       "        [245., 253., 253.],\n",
       "        [245., 253., 253.],\n",
       "        ...,\n",
       "        [245., 253., 253.],\n",
       "        [245., 253., 253.],\n",
       "        [245., 253., 253.]],\n",
       "\n",
       "       [[245., 253., 253.],\n",
       "        [245., 253., 253.],\n",
       "        [245., 253., 253.],\n",
       "        ...,\n",
       "        [245., 253., 253.],\n",
       "        [245., 253., 253.],\n",
       "        [245., 253., 253.]]], dtype=float32)"
      ]
     },
     "execution_count": 18,
     "metadata": {},
     "output_type": "execute_result"
    }
   ],
   "source": [
    "x = image.img_to_array(img)\n",
    "x"
   ]
  },
  {
   "cell_type": "code",
   "execution_count": 19,
   "id": "7e8f3f98-96f1-4de6-9666-02d48bad5a2d",
   "metadata": {},
   "outputs": [
    {
     "data": {
      "text/plain": [
       "(512, 512, 3)"
      ]
     },
     "execution_count": 19,
     "metadata": {},
     "output_type": "execute_result"
    }
   ],
   "source": [
    "x.shape"
   ]
  },
  {
   "cell_type": "code",
   "execution_count": 20,
   "id": "09632cc9-7a3e-40c3-aac9-7cf7f6a67e65",
   "metadata": {},
   "outputs": [
    {
     "data": {
      "text/plain": [
       "(1, 512, 512, 3)"
      ]
     },
     "execution_count": 20,
     "metadata": {},
     "output_type": "execute_result"
    }
   ],
   "source": [
    "x = x/255\n",
    "\n",
    "from tensorflow.keras.applications.resnet50 import preprocess_input\n",
    "\n",
    "x=np.expand_dims(x,axis=0)\n",
    "img_data=preprocess_input(x)\n",
    "img_data.shape"
   ]
  },
  {
   "cell_type": "code",
   "execution_count": 21,
   "id": "440a5245-f400-4c06-93e2-987287d5b47f",
   "metadata": {},
   "outputs": [
    {
     "name": "stdout",
     "output_type": "stream",
     "text": [
      "\u001b[1m1/1\u001b[0m \u001b[32m━━━━━━━━━━━━━━━━━━━━\u001b[0m\u001b[37m\u001b[0m \u001b[1m0s\u001b[0m 453ms/step\n"
     ]
    },
    {
     "data": {
      "text/plain": [
       "array([[1.0000000e+00, 1.2510375e-36]], dtype=float32)"
      ]
     },
     "execution_count": 21,
     "metadata": {},
     "output_type": "execute_result"
    }
   ],
   "source": [
    "model.predict(img_data)"
   ]
  },
  {
   "cell_type": "code",
   "execution_count": 22,
   "id": "e5bc9ac8-2982-40b4-b09e-88b09006642f",
   "metadata": {},
   "outputs": [
    {
     "name": "stdout",
     "output_type": "stream",
     "text": [
      "\u001b[1m1/1\u001b[0m \u001b[32m━━━━━━━━━━━━━━━━━━━━\u001b[0m\u001b[37m\u001b[0m \u001b[1m0s\u001b[0m 143ms/step\n"
     ]
    }
   ],
   "source": [
    "a = np.argmax(model.predict(img_data), axis = 1)"
   ]
  },
  {
   "cell_type": "code",
   "execution_count": 23,
   "id": "67658ad4-a199-464e-b9e8-8ebe7fa0c4de",
   "metadata": {},
   "outputs": [
    {
     "name": "stdout",
     "output_type": "stream",
     "text": [
      "The signature is forged\n"
     ]
    }
   ],
   "source": [
    "if(a==1):\n",
    "    print(\"The signature is real\")\n",
    "else:\n",
    "    print(\"The signature is forged\")"
   ]
  },
  {
   "cell_type": "markdown",
   "id": "7527021d-dd74-4370-8f0e-0359f96dc2fd",
   "metadata": {},
   "source": []
  }
 ],
 "metadata": {
  "kernelspec": {
   "display_name": "Python 3 (ipykernel)",
   "language": "python",
   "name": "python3"
  },
  "language_info": {
   "codemirror_mode": {
    "name": "ipython",
    "version": 3
   },
   "file_extension": ".py",
   "mimetype": "text/x-python",
   "name": "python",
   "nbconvert_exporter": "python",
   "pygments_lexer": "ipython3",
   "version": "3.11.7"
  }
 },
 "nbformat": 4,
 "nbformat_minor": 5
}
